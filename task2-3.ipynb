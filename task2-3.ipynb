{
 "cells": [
  {
   "cell_type": "code",
   "execution_count": 1,
   "id": "257114be-0958-495d-be21-4527394bba60",
   "metadata": {},
   "outputs": [],
   "source": [
    "import pandas as pd\n",
    "import numpy as np\n",
    "\n",
    "import seaborn as sns\n",
    "from matplotlib import pyplot as plt\n",
    "%matplotlib inline"
   ]
  },
  {
   "cell_type": "code",
   "execution_count": 2,
   "id": "fc31af00-38cb-4868-96bb-7df48838678d",
   "metadata": {},
   "outputs": [],
   "source": [
    "data = pd.read_csv('datasets/lab2/laptops.csv')"
   ]
  },
  {
   "cell_type": "code",
   "execution_count": 3,
   "id": "8f2d017c-2ec9-4378-91bd-44e710d64f55",
   "metadata": {},
   "outputs": [
    {
     "data": {
      "text/html": [
       "<div>\n",
       "<style scoped>\n",
       "    .dataframe tbody tr th:only-of-type {\n",
       "        vertical-align: middle;\n",
       "    }\n",
       "\n",
       "    .dataframe tbody tr th {\n",
       "        vertical-align: top;\n",
       "    }\n",
       "\n",
       "    .dataframe thead th {\n",
       "        text-align: right;\n",
       "    }\n",
       "</style>\n",
       "<table border=\"1\" class=\"dataframe\">\n",
       "  <thead>\n",
       "    <tr style=\"text-align: right;\">\n",
       "      <th></th>\n",
       "      <th>Laptop</th>\n",
       "      <th>Status</th>\n",
       "      <th>Brand</th>\n",
       "      <th>Model</th>\n",
       "      <th>CPU</th>\n",
       "      <th>RAM</th>\n",
       "      <th>Storage</th>\n",
       "      <th>Storage type</th>\n",
       "      <th>GPU</th>\n",
       "      <th>Screen</th>\n",
       "      <th>Touch</th>\n",
       "      <th>Final Price</th>\n",
       "    </tr>\n",
       "  </thead>\n",
       "  <tbody>\n",
       "    <tr>\n",
       "      <th>0</th>\n",
       "      <td>ASUS ExpertBook B1 B1502CBA-EJ0436X Intel Core...</td>\n",
       "      <td>New</td>\n",
       "      <td>Asus</td>\n",
       "      <td>ExpertBook</td>\n",
       "      <td>Intel Core i5</td>\n",
       "      <td>8</td>\n",
       "      <td>512</td>\n",
       "      <td>SSD</td>\n",
       "      <td>NaN</td>\n",
       "      <td>15.6</td>\n",
       "      <td>No</td>\n",
       "      <td>1009.00</td>\n",
       "    </tr>\n",
       "    <tr>\n",
       "      <th>1</th>\n",
       "      <td>Alurin Go Start Intel Celeron N4020/8GB/256GB ...</td>\n",
       "      <td>New</td>\n",
       "      <td>Alurin</td>\n",
       "      <td>Go</td>\n",
       "      <td>Intel Celeron</td>\n",
       "      <td>8</td>\n",
       "      <td>256</td>\n",
       "      <td>SSD</td>\n",
       "      <td>NaN</td>\n",
       "      <td>15.6</td>\n",
       "      <td>No</td>\n",
       "      <td>299.00</td>\n",
       "    </tr>\n",
       "    <tr>\n",
       "      <th>2</th>\n",
       "      <td>ASUS ExpertBook B1 B1502CBA-EJ0424X Intel Core...</td>\n",
       "      <td>New</td>\n",
       "      <td>Asus</td>\n",
       "      <td>ExpertBook</td>\n",
       "      <td>Intel Core i3</td>\n",
       "      <td>8</td>\n",
       "      <td>256</td>\n",
       "      <td>SSD</td>\n",
       "      <td>NaN</td>\n",
       "      <td>15.6</td>\n",
       "      <td>No</td>\n",
       "      <td>789.00</td>\n",
       "    </tr>\n",
       "    <tr>\n",
       "      <th>3</th>\n",
       "      <td>MSI Katana GF66 12UC-082XES Intel Core i7-1270...</td>\n",
       "      <td>New</td>\n",
       "      <td>MSI</td>\n",
       "      <td>Katana</td>\n",
       "      <td>Intel Core i7</td>\n",
       "      <td>16</td>\n",
       "      <td>1000</td>\n",
       "      <td>SSD</td>\n",
       "      <td>RTX 3050</td>\n",
       "      <td>15.6</td>\n",
       "      <td>No</td>\n",
       "      <td>1199.00</td>\n",
       "    </tr>\n",
       "    <tr>\n",
       "      <th>4</th>\n",
       "      <td>HP 15S-FQ5085NS Intel Core i5-1235U/16GB/512GB...</td>\n",
       "      <td>New</td>\n",
       "      <td>HP</td>\n",
       "      <td>15S</td>\n",
       "      <td>Intel Core i5</td>\n",
       "      <td>16</td>\n",
       "      <td>512</td>\n",
       "      <td>SSD</td>\n",
       "      <td>NaN</td>\n",
       "      <td>15.6</td>\n",
       "      <td>No</td>\n",
       "      <td>669.01</td>\n",
       "    </tr>\n",
       "    <tr>\n",
       "      <th>...</th>\n",
       "      <td>...</td>\n",
       "      <td>...</td>\n",
       "      <td>...</td>\n",
       "      <td>...</td>\n",
       "      <td>...</td>\n",
       "      <td>...</td>\n",
       "      <td>...</td>\n",
       "      <td>...</td>\n",
       "      <td>...</td>\n",
       "      <td>...</td>\n",
       "      <td>...</td>\n",
       "      <td>...</td>\n",
       "    </tr>\n",
       "    <tr>\n",
       "      <th>2155</th>\n",
       "      <td>Razer Blade 17 FHD 360Hz Intel Core i7-11800H/...</td>\n",
       "      <td>Refurbished</td>\n",
       "      <td>Razer</td>\n",
       "      <td>Blade</td>\n",
       "      <td>Intel Core i7</td>\n",
       "      <td>16</td>\n",
       "      <td>1000</td>\n",
       "      <td>SSD</td>\n",
       "      <td>RTX 3060</td>\n",
       "      <td>17.3</td>\n",
       "      <td>No</td>\n",
       "      <td>2699.99</td>\n",
       "    </tr>\n",
       "    <tr>\n",
       "      <th>2156</th>\n",
       "      <td>Razer Blade 17 FHD 360Hz Intel Core i7-11800H/...</td>\n",
       "      <td>Refurbished</td>\n",
       "      <td>Razer</td>\n",
       "      <td>Blade</td>\n",
       "      <td>Intel Core i7</td>\n",
       "      <td>16</td>\n",
       "      <td>1000</td>\n",
       "      <td>SSD</td>\n",
       "      <td>RTX 3070</td>\n",
       "      <td>17.3</td>\n",
       "      <td>No</td>\n",
       "      <td>2899.99</td>\n",
       "    </tr>\n",
       "    <tr>\n",
       "      <th>2157</th>\n",
       "      <td>Razer Blade 17 FHD 360Hz Intel Core i7-11800H/...</td>\n",
       "      <td>Refurbished</td>\n",
       "      <td>Razer</td>\n",
       "      <td>Blade</td>\n",
       "      <td>Intel Core i7</td>\n",
       "      <td>32</td>\n",
       "      <td>1000</td>\n",
       "      <td>SSD</td>\n",
       "      <td>RTX 3080</td>\n",
       "      <td>17.3</td>\n",
       "      <td>No</td>\n",
       "      <td>3399.99</td>\n",
       "    </tr>\n",
       "    <tr>\n",
       "      <th>2158</th>\n",
       "      <td>Razer Book 13 Intel Evo Core i7-1165G7/16GB/1T...</td>\n",
       "      <td>Refurbished</td>\n",
       "      <td>Razer</td>\n",
       "      <td>Book</td>\n",
       "      <td>Intel Evo Core i7</td>\n",
       "      <td>16</td>\n",
       "      <td>1000</td>\n",
       "      <td>SSD</td>\n",
       "      <td>NaN</td>\n",
       "      <td>13.4</td>\n",
       "      <td>Yes</td>\n",
       "      <td>1899.99</td>\n",
       "    </tr>\n",
       "    <tr>\n",
       "      <th>2159</th>\n",
       "      <td>Razer Book FHD+ Intel Evo Core i7-1165G7/16GB/...</td>\n",
       "      <td>Refurbished</td>\n",
       "      <td>Razer</td>\n",
       "      <td>Book</td>\n",
       "      <td>Intel Evo Core i7</td>\n",
       "      <td>16</td>\n",
       "      <td>256</td>\n",
       "      <td>SSD</td>\n",
       "      <td>NaN</td>\n",
       "      <td>13.4</td>\n",
       "      <td>Yes</td>\n",
       "      <td>1699.99</td>\n",
       "    </tr>\n",
       "  </tbody>\n",
       "</table>\n",
       "<p>2160 rows × 12 columns</p>\n",
       "</div>"
      ],
      "text/plain": [
       "                                                 Laptop       Status   Brand  \\\n",
       "0     ASUS ExpertBook B1 B1502CBA-EJ0436X Intel Core...          New    Asus   \n",
       "1     Alurin Go Start Intel Celeron N4020/8GB/256GB ...          New  Alurin   \n",
       "2     ASUS ExpertBook B1 B1502CBA-EJ0424X Intel Core...          New    Asus   \n",
       "3     MSI Katana GF66 12UC-082XES Intel Core i7-1270...          New     MSI   \n",
       "4     HP 15S-FQ5085NS Intel Core i5-1235U/16GB/512GB...          New      HP   \n",
       "...                                                 ...          ...     ...   \n",
       "2155  Razer Blade 17 FHD 360Hz Intel Core i7-11800H/...  Refurbished   Razer   \n",
       "2156  Razer Blade 17 FHD 360Hz Intel Core i7-11800H/...  Refurbished   Razer   \n",
       "2157  Razer Blade 17 FHD 360Hz Intel Core i7-11800H/...  Refurbished   Razer   \n",
       "2158  Razer Book 13 Intel Evo Core i7-1165G7/16GB/1T...  Refurbished   Razer   \n",
       "2159  Razer Book FHD+ Intel Evo Core i7-1165G7/16GB/...  Refurbished   Razer   \n",
       "\n",
       "           Model                CPU  RAM  Storage Storage type       GPU  \\\n",
       "0     ExpertBook      Intel Core i5    8      512          SSD       NaN   \n",
       "1             Go      Intel Celeron    8      256          SSD       NaN   \n",
       "2     ExpertBook      Intel Core i3    8      256          SSD       NaN   \n",
       "3         Katana      Intel Core i7   16     1000          SSD  RTX 3050   \n",
       "4            15S      Intel Core i5   16      512          SSD       NaN   \n",
       "...          ...                ...  ...      ...          ...       ...   \n",
       "2155       Blade      Intel Core i7   16     1000          SSD  RTX 3060   \n",
       "2156       Blade      Intel Core i7   16     1000          SSD  RTX 3070   \n",
       "2157       Blade      Intel Core i7   32     1000          SSD  RTX 3080   \n",
       "2158        Book  Intel Evo Core i7   16     1000          SSD       NaN   \n",
       "2159        Book  Intel Evo Core i7   16      256          SSD       NaN   \n",
       "\n",
       "      Screen Touch  Final Price  \n",
       "0       15.6    No      1009.00  \n",
       "1       15.6    No       299.00  \n",
       "2       15.6    No       789.00  \n",
       "3       15.6    No      1199.00  \n",
       "4       15.6    No       669.01  \n",
       "...      ...   ...          ...  \n",
       "2155    17.3    No      2699.99  \n",
       "2156    17.3    No      2899.99  \n",
       "2157    17.3    No      3399.99  \n",
       "2158    13.4   Yes      1899.99  \n",
       "2159    13.4   Yes      1699.99  \n",
       "\n",
       "[2160 rows x 12 columns]"
      ]
     },
     "execution_count": 3,
     "metadata": {},
     "output_type": "execute_result"
    }
   ],
   "source": [
    "data"
   ]
  },
  {
   "cell_type": "code",
   "execution_count": 4,
   "id": "b73651d1-590c-49c2-9690-e36b361a0b5d",
   "metadata": {},
   "outputs": [],
   "source": [
    "data.columns = data.columns.str.lower().str.replace(' ', '_')"
   ]
  },
  {
   "cell_type": "code",
   "execution_count": 5,
   "id": "379a8f33-ae13-4626-83ef-f2219d1dbbca",
   "metadata": {},
   "outputs": [
    {
     "data": {
      "text/html": [
       "<div>\n",
       "<style scoped>\n",
       "    .dataframe tbody tr th:only-of-type {\n",
       "        vertical-align: middle;\n",
       "    }\n",
       "\n",
       "    .dataframe tbody tr th {\n",
       "        vertical-align: top;\n",
       "    }\n",
       "\n",
       "    .dataframe thead th {\n",
       "        text-align: right;\n",
       "    }\n",
       "</style>\n",
       "<table border=\"1\" class=\"dataframe\">\n",
       "  <thead>\n",
       "    <tr style=\"text-align: right;\">\n",
       "      <th></th>\n",
       "      <th>laptop</th>\n",
       "      <th>status</th>\n",
       "      <th>brand</th>\n",
       "      <th>model</th>\n",
       "      <th>cpu</th>\n",
       "      <th>ram</th>\n",
       "      <th>storage</th>\n",
       "      <th>storage_type</th>\n",
       "      <th>gpu</th>\n",
       "      <th>screen</th>\n",
       "      <th>touch</th>\n",
       "      <th>final_price</th>\n",
       "    </tr>\n",
       "  </thead>\n",
       "  <tbody>\n",
       "    <tr>\n",
       "      <th>0</th>\n",
       "      <td>ASUS ExpertBook B1 B1502CBA-EJ0436X Intel Core...</td>\n",
       "      <td>New</td>\n",
       "      <td>Asus</td>\n",
       "      <td>ExpertBook</td>\n",
       "      <td>Intel Core i5</td>\n",
       "      <td>8</td>\n",
       "      <td>512</td>\n",
       "      <td>SSD</td>\n",
       "      <td>NaN</td>\n",
       "      <td>15.6</td>\n",
       "      <td>No</td>\n",
       "      <td>1009.00</td>\n",
       "    </tr>\n",
       "    <tr>\n",
       "      <th>1</th>\n",
       "      <td>Alurin Go Start Intel Celeron N4020/8GB/256GB ...</td>\n",
       "      <td>New</td>\n",
       "      <td>Alurin</td>\n",
       "      <td>Go</td>\n",
       "      <td>Intel Celeron</td>\n",
       "      <td>8</td>\n",
       "      <td>256</td>\n",
       "      <td>SSD</td>\n",
       "      <td>NaN</td>\n",
       "      <td>15.6</td>\n",
       "      <td>No</td>\n",
       "      <td>299.00</td>\n",
       "    </tr>\n",
       "    <tr>\n",
       "      <th>2</th>\n",
       "      <td>ASUS ExpertBook B1 B1502CBA-EJ0424X Intel Core...</td>\n",
       "      <td>New</td>\n",
       "      <td>Asus</td>\n",
       "      <td>ExpertBook</td>\n",
       "      <td>Intel Core i3</td>\n",
       "      <td>8</td>\n",
       "      <td>256</td>\n",
       "      <td>SSD</td>\n",
       "      <td>NaN</td>\n",
       "      <td>15.6</td>\n",
       "      <td>No</td>\n",
       "      <td>789.00</td>\n",
       "    </tr>\n",
       "    <tr>\n",
       "      <th>3</th>\n",
       "      <td>MSI Katana GF66 12UC-082XES Intel Core i7-1270...</td>\n",
       "      <td>New</td>\n",
       "      <td>MSI</td>\n",
       "      <td>Katana</td>\n",
       "      <td>Intel Core i7</td>\n",
       "      <td>16</td>\n",
       "      <td>1000</td>\n",
       "      <td>SSD</td>\n",
       "      <td>RTX 3050</td>\n",
       "      <td>15.6</td>\n",
       "      <td>No</td>\n",
       "      <td>1199.00</td>\n",
       "    </tr>\n",
       "    <tr>\n",
       "      <th>4</th>\n",
       "      <td>HP 15S-FQ5085NS Intel Core i5-1235U/16GB/512GB...</td>\n",
       "      <td>New</td>\n",
       "      <td>HP</td>\n",
       "      <td>15S</td>\n",
       "      <td>Intel Core i5</td>\n",
       "      <td>16</td>\n",
       "      <td>512</td>\n",
       "      <td>SSD</td>\n",
       "      <td>NaN</td>\n",
       "      <td>15.6</td>\n",
       "      <td>No</td>\n",
       "      <td>669.01</td>\n",
       "    </tr>\n",
       "  </tbody>\n",
       "</table>\n",
       "</div>"
      ],
      "text/plain": [
       "                                              laptop status   brand  \\\n",
       "0  ASUS ExpertBook B1 B1502CBA-EJ0436X Intel Core...    New    Asus   \n",
       "1  Alurin Go Start Intel Celeron N4020/8GB/256GB ...    New  Alurin   \n",
       "2  ASUS ExpertBook B1 B1502CBA-EJ0424X Intel Core...    New    Asus   \n",
       "3  MSI Katana GF66 12UC-082XES Intel Core i7-1270...    New     MSI   \n",
       "4  HP 15S-FQ5085NS Intel Core i5-1235U/16GB/512GB...    New      HP   \n",
       "\n",
       "        model            cpu  ram  storage storage_type       gpu  screen  \\\n",
       "0  ExpertBook  Intel Core i5    8      512          SSD       NaN    15.6   \n",
       "1          Go  Intel Celeron    8      256          SSD       NaN    15.6   \n",
       "2  ExpertBook  Intel Core i3    8      256          SSD       NaN    15.6   \n",
       "3      Katana  Intel Core i7   16     1000          SSD  RTX 3050    15.6   \n",
       "4         15S  Intel Core i5   16      512          SSD       NaN    15.6   \n",
       "\n",
       "  touch  final_price  \n",
       "0    No      1009.00  \n",
       "1    No       299.00  \n",
       "2    No       789.00  \n",
       "3    No      1199.00  \n",
       "4    No       669.01  "
      ]
     },
     "execution_count": 5,
     "metadata": {},
     "output_type": "execute_result"
    }
   ],
   "source": [
    "data.head()"
   ]
  },
  {
   "cell_type": "code",
   "execution_count": 6,
   "id": "f9deeb6c-6d24-43dd-8204-180e125b157d",
   "metadata": {},
   "outputs": [
    {
     "data": {
      "text/html": [
       "<div>\n",
       "<style scoped>\n",
       "    .dataframe tbody tr th:only-of-type {\n",
       "        vertical-align: middle;\n",
       "    }\n",
       "\n",
       "    .dataframe tbody tr th {\n",
       "        vertical-align: top;\n",
       "    }\n",
       "\n",
       "    .dataframe thead th {\n",
       "        text-align: right;\n",
       "    }\n",
       "</style>\n",
       "<table border=\"1\" class=\"dataframe\">\n",
       "  <thead>\n",
       "    <tr style=\"text-align: right;\">\n",
       "      <th></th>\n",
       "      <th>ram</th>\n",
       "      <th>storage</th>\n",
       "      <th>screen</th>\n",
       "      <th>final_price</th>\n",
       "    </tr>\n",
       "  </thead>\n",
       "  <tbody>\n",
       "    <tr>\n",
       "      <th>0</th>\n",
       "      <td>8</td>\n",
       "      <td>512</td>\n",
       "      <td>15.6</td>\n",
       "      <td>1009.00</td>\n",
       "    </tr>\n",
       "    <tr>\n",
       "      <th>1</th>\n",
       "      <td>8</td>\n",
       "      <td>256</td>\n",
       "      <td>15.6</td>\n",
       "      <td>299.00</td>\n",
       "    </tr>\n",
       "    <tr>\n",
       "      <th>2</th>\n",
       "      <td>8</td>\n",
       "      <td>256</td>\n",
       "      <td>15.6</td>\n",
       "      <td>789.00</td>\n",
       "    </tr>\n",
       "    <tr>\n",
       "      <th>3</th>\n",
       "      <td>16</td>\n",
       "      <td>1000</td>\n",
       "      <td>15.6</td>\n",
       "      <td>1199.00</td>\n",
       "    </tr>\n",
       "    <tr>\n",
       "      <th>4</th>\n",
       "      <td>16</td>\n",
       "      <td>512</td>\n",
       "      <td>15.6</td>\n",
       "      <td>669.01</td>\n",
       "    </tr>\n",
       "  </tbody>\n",
       "</table>\n",
       "</div>"
      ],
      "text/plain": [
       "   ram  storage  screen  final_price\n",
       "0    8      512    15.6      1009.00\n",
       "1    8      256    15.6       299.00\n",
       "2    8      256    15.6       789.00\n",
       "3   16     1000    15.6      1199.00\n",
       "4   16      512    15.6       669.01"
      ]
     },
     "execution_count": 6,
     "metadata": {},
     "output_type": "execute_result"
    }
   ],
   "source": [
    "features = ['ram', 'storage', 'screen', 'final_price']\n",
    "selected_columns = data[features]\n",
    "selected_columns.head()"
   ]
  },
  {
   "cell_type": "code",
   "execution_count": 7,
   "id": "75af1372-5d20-4536-98d8-2f295c5784bc",
   "metadata": {},
   "outputs": [
    {
     "data": {
      "text/plain": [
       "ram            0\n",
       "storage        0\n",
       "screen         4\n",
       "final_price    0\n",
       "dtype: int64"
      ]
     },
     "execution_count": 7,
     "metadata": {},
     "output_type": "execute_result"
    }
   ],
   "source": [
    "selected_columns.isnull().sum()"
   ]
  },
  {
   "cell_type": "code",
   "execution_count": 8,
   "id": "be0a8ee0-5eaf-407e-a129-ba7895719f67",
   "metadata": {},
   "outputs": [
    {
     "data": {
      "text/plain": [
       "np.float64(16.0)"
      ]
     },
     "execution_count": 8,
     "metadata": {},
     "output_type": "execute_result"
    }
   ],
   "source": [
    "selected_columns.ram.median()"
   ]
  },
  {
   "cell_type": "code",
   "execution_count": 9,
   "id": "3a011ca4-232c-4a69-895b-f1492bb2ec2b",
   "metadata": {},
   "outputs": [],
   "source": [
    "np.random.seed(42)\n",
    "\n",
    "n = len(selected_columns)\n",
    "n_val = int(0.2 * n)\n",
    "n_test = int(0.2 * n)\n",
    "n_train = n - (n_val + n_test)"
   ]
  },
  {
   "cell_type": "code",
   "execution_count": 10,
   "id": "8f208d45-c14e-40a7-9d30-ad4b87ded211",
   "metadata": {},
   "outputs": [],
   "source": [
    "data_train = selected_columns.iloc[:n_train]\n",
    "data_val = selected_columns.iloc[n_train:n_train+n_val]\n",
    "data_test = selected_columns.iloc[n_train+n_val:]"
   ]
  },
  {
   "cell_type": "code",
   "execution_count": 11,
   "id": "55753d30-2a25-454f-a318-ce0295d2b31c",
   "metadata": {},
   "outputs": [],
   "source": [
    "idx = np.arange(n)"
   ]
  },
  {
   "cell_type": "code",
   "execution_count": 12,
   "id": "749e0780-3e9c-435d-8844-dede786b5ab7",
   "metadata": {},
   "outputs": [],
   "source": [
    "np.random.shuffle(idx)"
   ]
  },
  {
   "cell_type": "code",
   "execution_count": 13,
   "id": "22696799-98d6-4399-a4f5-b626569d30e7",
   "metadata": {},
   "outputs": [],
   "source": [
    "data_train = selected_columns.iloc[idx[:n_train]]\n",
    "data_val = selected_columns.iloc[idx[n_train:n_train+n_val]]\n",
    "data_test = selected_columns.iloc[idx[n_train+n_val:]]"
   ]
  },
  {
   "cell_type": "code",
   "execution_count": 14,
   "id": "d78c44e4-41fa-46a1-ade3-12c6d6b9e471",
   "metadata": {},
   "outputs": [],
   "source": [
    "data_train = data_train.reset_index(drop=True)\n",
    "data_val = data_val.reset_index(drop=True)\n",
    "data_test = data_test.reset_index(drop=True)"
   ]
  },
  {
   "cell_type": "code",
   "execution_count": 15,
   "id": "33ff0d08-1fe3-419d-b5bd-01e5871b3f0b",
   "metadata": {},
   "outputs": [],
   "source": [
    "y_train = np.log1p(data_train.final_price.values)\n",
    "y_val = np.log1p(data_val.final_price.values)\n",
    "y_test = np.log1p(data_test.final_price.values)"
   ]
  },
  {
   "cell_type": "code",
   "execution_count": 16,
   "id": "a2e99290-9525-421d-9083-fb64192e0808",
   "metadata": {},
   "outputs": [],
   "source": [
    "del data_train['final_price']\n",
    "del data_val['final_price']\n",
    "del data_test['final_price']"
   ]
  },
  {
   "cell_type": "markdown",
   "id": "51d403fe-1f0b-4fbc-a64d-2e789941802d",
   "metadata": {},
   "source": [
    "## Linear regression"
   ]
  },
  {
   "cell_type": "code",
   "execution_count": 17,
   "id": "ca93679f-d3bc-4853-983f-a94d5cca46a2",
   "metadata": {},
   "outputs": [],
   "source": [
    "w0 = 7.17\n",
    "w = [0.01, 0.04]"
   ]
  },
  {
   "cell_type": "code",
   "execution_count": 18,
   "id": "b6f3a7cc-ffec-444b-ba74-8dcaf206424b",
   "metadata": {},
   "outputs": [
    {
     "data": {
      "text/plain": [
       "[7.17, 0.01, 0.04]"
      ]
     },
     "execution_count": 18,
     "metadata": {},
     "output_type": "execute_result"
    }
   ],
   "source": [
    "w_new = [w0] + w\n",
    "w_new"
   ]
  },
  {
   "cell_type": "code",
   "execution_count": 19,
   "id": "cf9acc1e-c43b-41c5-aa0d-eb3953b9751f",
   "metadata": {},
   "outputs": [],
   "source": [
    "def linear_regression(X):\n",
    "    return X.dot(w_new)"
   ]
  },
  {
   "cell_type": "code",
   "execution_count": 20,
   "id": "6389183f-e8ed-43ad-92f1-1fe67b26e40d",
   "metadata": {},
   "outputs": [
    {
     "data": {
      "text/plain": [
       "0       240.064\n",
       "1        29.884\n",
       "2       240.000\n",
       "3       120.372\n",
       "4       240.080\n",
       "         ...   \n",
       "1291     60.480\n",
       "1292    240.080\n",
       "1293    120.464\n",
       "1294    120.400\n",
       "1295    120.400\n",
       "Length: 1296, dtype: float64"
      ]
     },
     "execution_count": 20,
     "metadata": {},
     "output_type": "execute_result"
    }
   ],
   "source": [
    "linear_regression(data_train)"
   ]
  },
  {
   "cell_type": "code",
   "execution_count": 27,
   "id": "b3d40228-c841-4c80-a0a3-d67004a24c5b",
   "metadata": {},
   "outputs": [],
   "source": [
    "def train_linear_regression(X, y):\n",
    "    ones = np.ones(X.shape[0])\n",
    "    X = np.column_stack([ones, X])\n",
    "    \n",
    "    XTX = X.T.dot(X)\n",
    "    XTX_inv = np.linalg.inv(XTX)\n",
    "    w = XTX_inv.dot(X.T).dot(y)\n",
    "\n",
    "    return w[0], w[1:]"
   ]
  },
  {
   "cell_type": "code",
   "execution_count": 23,
   "id": "f38ee2b9-9c0f-491c-a58c-97b31d20bee3",
   "metadata": {},
   "outputs": [],
   "source": [
    "def prepare_X_with_0(data):\n",
    "    data = data.fillna(0)\n",
    "    X = data.values\n",
    "    return X"
   ]
  },
  {
   "cell_type": "code",
   "execution_count": 24,
   "id": "65077c5c-d4fb-4486-b703-4fbb7814e353",
   "metadata": {},
   "outputs": [],
   "source": [
    "def prepare_X_with_mean(data):\n",
    "    data = data.fillna(data['screen'].mean())\n",
    "    X = data.values\n",
    "    return X"
   ]
  },
  {
   "cell_type": "code",
   "execution_count": 25,
   "id": "2ace4821-f903-427a-9936-35fd33ebfb75",
   "metadata": {},
   "outputs": [],
   "source": [
    "def rmse(y, y_pred):\n",
    "    se = (y - y_pred) ** 2\n",
    "    mse = se.mean()\n",
    "    return np.sqrt(mse)"
   ]
  },
  {
   "cell_type": "code",
   "execution_count": 28,
   "id": "927e6ef3-82da-4c50-a9bf-37290e30fd70",
   "metadata": {},
   "outputs": [
    {
     "data": {
      "text/plain": [
       "np.float64(0.43)"
      ]
     },
     "execution_count": 28,
     "metadata": {},
     "output_type": "execute_result"
    }
   ],
   "source": [
    "X_prepared = prepare_X_with_0(data_train)\n",
    "w0, w = train_linear_regression(X_prepared, y_train)\n",
    "\n",
    "X_val_prepared = prepare_X_with_0(data_val)\n",
    "y_pred = w0 + X_val_prepared.dot(w)\n",
    "round(rmse(y_val, y_pred), 2)"
   ]
  },
  {
   "cell_type": "code",
   "execution_count": 29,
   "id": "84642529-cb40-4c40-b643-950413e954d0",
   "metadata": {},
   "outputs": [
    {
     "data": {
      "text/plain": [
       "np.float64(0.43)"
      ]
     },
     "execution_count": 29,
     "metadata": {},
     "output_type": "execute_result"
    }
   ],
   "source": [
    "X_prepared = prepare_X_with_mean(data_train)\n",
    "w0, w = train_linear_regression(X_prepared, y_train)\n",
    "\n",
    "X_val_prepared = prepare_X_with_mean(data_val)\n",
    "y_pred = w0 + X_val_prepared.dot(w)\n",
    "round(rmse(y_val, y_pred), 2)"
   ]
  },
  {
   "cell_type": "markdown",
   "id": "99a11d1c-f696-494a-9297-20e648086f22",
   "metadata": {},
   "source": [
    "## Reg linear regression"
   ]
  },
  {
   "cell_type": "code",
   "execution_count": 34,
   "id": "4393c368-2bc0-449c-a2fe-5622e662ee65",
   "metadata": {},
   "outputs": [],
   "source": [
    "def train_linear_regression_reg(X, y, r=0.001):\n",
    "    ones = np.ones(X.shape[0])\n",
    "    X = np.column_stack([ones, X])\n",
    "    \n",
    "    XTX = X.T.dot(X)\n",
    "    XTX = XTX + r * np.eye(XTX.shape[0])\n",
    "    \n",
    "    XTX_inv = np.linalg.inv(XTX)\n",
    "    w = XTX_inv.dot(X.T).dot(y)\n",
    "    \n",
    "    return w[0], w[1:]"
   ]
  },
  {
   "cell_type": "code",
   "execution_count": 31,
   "id": "a04b184d-ed38-4d86-ac0b-fc2a8ed68a09",
   "metadata": {},
   "outputs": [],
   "source": [
    "rs = [0, 0.01, 0.1, 1, 5, 10, 100]\n",
    "X_prepared = prepare_X_with_0(data_train)\n",
    "X_val_prepared = prepare_X_with_0(data_val)"
   ]
  },
  {
   "cell_type": "code",
   "execution_count": 36,
   "id": "e4641e51-13cc-4754-a404-8f1f5c8a27af",
   "metadata": {},
   "outputs": [
    {
     "name": "stdout",
     "output_type": "stream",
     "text": [
      "0 0.43\n",
      "0.01 0.43\n",
      "0.1 0.43\n",
      "1 0.43\n",
      "5 0.46\n",
      "10 0.51\n",
      "100 0.67\n"
     ]
    }
   ],
   "source": [
    "for r in rs:\n",
    "    w0, w = train_linear_regression_reg(X_prepared, y_train, r=r)\n",
    "    y_pred = w0 + X_val_prepared.dot(w)\n",
    "    print(f\"{r} {round(rmse(y_val, y_pred), 2)}\")"
   ]
  },
  {
   "cell_type": "code",
   "execution_count": 43,
   "id": "ea13bfd3-5e56-4d48-bf53-a2545be6b5d6",
   "metadata": {},
   "outputs": [],
   "source": [
    "seeds = [0, 1, 2, 3, 4, 5, 6, 7, 8, 9]"
   ]
  },
  {
   "cell_type": "code",
   "execution_count": 44,
   "id": "ed59351c-13c8-44dd-ade6-df0dc8b4e284",
   "metadata": {},
   "outputs": [],
   "source": [
    "rmses = []"
   ]
  },
  {
   "cell_type": "code",
   "execution_count": 46,
   "id": "32675f86-2c55-4879-b622-18f00bfc1ef7",
   "metadata": {},
   "outputs": [],
   "source": [
    "for seed in seeds:\n",
    "    data_train = selected_columns.iloc[:n_train]\n",
    "    data_val = selected_columns.iloc[n_train:n_train+n_val]\n",
    "    data_test = selected_columns.iloc[n_train+n_val:]\n",
    "\n",
    "    idx = np.arange(n)\n",
    "    np.random.seed(seed)\n",
    "    np.random.shuffle(idx)\n",
    "\n",
    "    data_train = selected_columns.iloc[idx[:n_train]].reset_index(drop=True)\n",
    "    data_val = selected_columns.iloc[idx[n_train:n_train+n_val]].reset_index(drop=True)\n",
    "    data_test = selected_columns.iloc[idx[n_train+n_val:]].reset_index(drop=True)\n",
    "    \n",
    "    y_train = np.log1p(data_train.final_price.values)\n",
    "    y_val = np.log1p(data_val.final_price.values)\n",
    "    y_test = np.log1p(data_test.final_price.values)\n",
    "    \n",
    "    del data_train['final_price']\n",
    "    del data_val['final_price']\n",
    "    del data_test['final_price']\n",
    "\n",
    "    X_prepared = prepare_X_with_0(data_train)\n",
    "    X_val_prepared = prepare_X_with_0(data_val)\n",
    "    w0, w  = train_linear_regression(X_prepared, y_train)\n",
    "    y_pred = w0 + X_val_prepared.dot(w)\n",
    "    rmses.append(rmse(y_val, y_pred))"
   ]
  },
  {
   "cell_type": "code",
   "execution_count": 47,
   "id": "e675bd15-c7c0-419b-814c-4326a3592e8a",
   "metadata": {},
   "outputs": [
    {
     "data": {
      "text/plain": [
       "np.float64(0.014)"
      ]
     },
     "execution_count": 47,
     "metadata": {},
     "output_type": "execute_result"
    }
   ],
   "source": [
    "round(np.std(rmses), 3)"
   ]
  },
  {
   "cell_type": "code",
   "execution_count": 48,
   "id": "706a1831-e77f-4e0a-a275-5865175cdb2f",
   "metadata": {},
   "outputs": [],
   "source": [
    "np.random.seed(9)"
   ]
  },
  {
   "cell_type": "code",
   "execution_count": 49,
   "id": "43616fe7-6702-44fb-ac88-30c7bdf546a1",
   "metadata": {},
   "outputs": [],
   "source": [
    "data_train = selected_columns.iloc[:n_train]\n",
    "data_val = selected_columns.iloc[n_train:n_train+n_val]\n",
    "data_test = selected_columns.iloc[n_train+n_val:]\n",
    "\n",
    "idx = np.arange(n)\n",
    "np.random.seed(seed)\n",
    "np.random.shuffle(idx)\n",
    "\n",
    "data_train = selected_columns.iloc[idx[:n_train]].reset_index(drop=True)\n",
    "data_val = selected_columns.iloc[idx[n_train:n_train+n_val]].reset_index(drop=True)\n",
    "data_test = selected_columns.iloc[idx[n_train+n_val:]].reset_index(drop=True)\n",
    "\n",
    "y_train = np.log1p(data_train.final_price.values)\n",
    "y_val = np.log1p(data_val.final_price.values)\n",
    "y_test = np.log1p(data_test.final_price.values)\n",
    "\n",
    "del data_train['final_price']\n",
    "del data_val['final_price']\n",
    "del data_test['final_price']"
   ]
  },
  {
   "cell_type": "code",
   "execution_count": 53,
   "id": "7fbe4d9b-c288-4e40-8136-4dc652f1b4b1",
   "metadata": {},
   "outputs": [],
   "source": [
    "X_train_val = pd.DataFrame(np.concat([data_train, data_val]))"
   ]
  },
  {
   "cell_type": "code",
   "execution_count": 54,
   "id": "f0ffecf3-2c0a-4cfa-b35c-b36da84f22a8",
   "metadata": {},
   "outputs": [],
   "source": [
    "y_train_val = pd.DataFrame(np.concat([y_train, y_pred]))"
   ]
  },
  {
   "cell_type": "code",
   "execution_count": 55,
   "id": "b67f13f6-9151-4321-8d9a-e5b1c3ed2793",
   "metadata": {},
   "outputs": [],
   "source": [
    "X_prepared = prepare_X_with_0(X_train_val)\n",
    "X_test_prep = prepare_X_with_0(data_test)"
   ]
  },
  {
   "cell_type": "code",
   "execution_count": 56,
   "id": "c63fff1e-8cac-40d8-a24f-460877a61899",
   "metadata": {},
   "outputs": [],
   "source": [
    "w0, w = train_linear_regression_reg(X_prepared, y_train_val, r=0.001)\n",
    "y_pred = w0 + X_test_prep.dot(w)"
   ]
  },
  {
   "cell_type": "code",
   "execution_count": 57,
   "id": "59d8749a-d36b-413e-9242-7f0c04873a5d",
   "metadata": {},
   "outputs": [
    {
     "data": {
      "text/plain": [
       "np.float64(0.8391907836810745)"
      ]
     },
     "execution_count": 57,
     "metadata": {},
     "output_type": "execute_result"
    }
   ],
   "source": [
    "rmse(y_test, y_pred)"
   ]
  },
  {
   "cell_type": "code",
   "execution_count": null,
   "id": "f69484c0-9acb-4bf3-96bc-194400e60fde",
   "metadata": {},
   "outputs": [],
   "source": []
  }
 ],
 "metadata": {
  "kernelspec": {
   "display_name": "Python 3 (ipykernel)",
   "language": "python",
   "name": "python3"
  },
  "language_info": {
   "codemirror_mode": {
    "name": "ipython",
    "version": 3
   },
   "file_extension": ".py",
   "mimetype": "text/x-python",
   "name": "python",
   "nbconvert_exporter": "python",
   "pygments_lexer": "ipython3",
   "version": "3.11.5"
  }
 },
 "nbformat": 4,
 "nbformat_minor": 5
}
